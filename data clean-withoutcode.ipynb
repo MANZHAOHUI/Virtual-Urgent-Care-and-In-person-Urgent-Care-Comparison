{
 "cells": [
  {
   "cell_type": "code",
   "execution_count": 1,
   "metadata": {},
   "outputs": [
    {
     "data": {
      "text/plain": [
       "0               VIRAL GASTROENTERITIS (STOMACH FLU) A08.4\n",
       "1       VIRAL GASTROENTERITIS (STOMACH FLU),VOMITING A...\n",
       "2               VIRAL GASTROENTERITIS (STOMACH FLU) A08.4\n",
       "3               VIRAL GASTROENTERITIS (STOMACH FLU) A08.4\n",
       "4               VIRAL GASTROENTERITIS (STOMACH FLU) A08.4\n",
       "5               VIRAL GASTROENTERITIS (STOMACH FLU) A08.4\n",
       "6                                 TRAVELER'S DIARRHEA A09\n",
       "7                              MRSA SKIN INFECTION A49.02\n",
       "8                              MRSA SKIN INFECTION A49.02\n",
       "9               URETHRITIS - CHLAMYDIA TRACHOMATIS A56.01\n",
       "10                                HERPES GENITALIS A60.00\n",
       "11                                HERPES GENITALIS A60.00\n",
       "12                                HERPES GENITALIS A60.00\n",
       "13                                  GENITAL HERPES A60.00\n",
       "14                                    LYME DISEASE A69.20\n",
       "15                                    LYME DISEASE A69.20\n",
       "16      ERYTHEMA CHRONICUM MIGRANS (FROM TICK BITE) A6...\n",
       "17             HERPES SIMPLEX LABIALIS (COLD SORES) B00.1\n",
       "18             HERPES SIMPLEX LABIALIS (COLD SORES) B00.1\n",
       "19                        COLD SORE (FEVER BLISTER) B00.1\n",
       "20             HERPES SIMPLEX LABIALIS (COLD SORES) B00.1\n",
       "21             HERPES SIMPLEX LABIALIS (COLD SORES) B00.1\n",
       "22             HERPES SIMPLEX LABIALIS (COLD SORES) B00.1\n",
       "23                        COLD SORE (FEVER BLISTER) B00.1\n",
       "24                                   HERPES SIMPLEX B00.9\n",
       "25                                   HERPES SIMPLEX B00.9\n",
       "26                                   HERPES SIMPLEX B00.9\n",
       "27                                   HERPES SIMPLEX B00.9\n",
       "28                                   HERPES SIMPLEX B00.9\n",
       "29                                   HERPES SIMPLEX B00.9\n",
       "                              ...                        \n",
       "1618                              WOUND INFECTED T81.4XXA\n",
       "1619                                    CAT BITE W55.01XA\n",
       "1620    CAT BITE,CELLULITIS (BACTERIAL SKIN INFECTION)...\n",
       "1621                      ANIMAL BITE OR SCRATCH W55.81XA\n",
       "1622                      ANIMAL BITE OR SCRATCH W55.81XA\n",
       "1623    BEE- WASP- OR YELLOW JACKET STING,CELLULITIS (...\n",
       "1624                        EXPOSURE TO INFLUENZA Z20.828\n",
       "1625                          EXPOSURE TO INFECTION Z20.9\n",
       "1626                          EXPOSURE TO INFECTION Z20.9\n",
       "1627    GENERAL BIRTH CONTROL ADVICE AND COUNSELING Z3...\n",
       "1628          ORAL CONTRACEPTIVE PILLS (OCP- BCP) Z30.011\n",
       "1629      PRESCRIPTION REFILL - BIRTH CONTROL PILL Z30.41\n",
       "1630    PREGNANCY SYMPTOM OR QUESTION,VAGINAL BLEEDING...\n",
       "1631      LABORATORY OR DIAGNOSTIC TESTING QUESTION Z71.2\n",
       "1632                  MEDICINE SYMPTOM OR QUESTION Z71.89\n",
       "1633               COUNSELING - GENERAL CARE ADVICE Z71.9\n",
       "1634    REQUEST FOR PRESCRIPTION REFILL OR MEDICATION ...\n",
       "1635    REQUEST FOR PRESCRIPTION REFILL OR MEDICATION ...\n",
       "1636    REQUEST FOR PRESCRIPTION REFILL OR MEDICATION ...\n",
       "1637    REQUEST FOR PRESCRIPTION REFILL OR MEDICATION ...\n",
       "1638    REQUEST FOR PRESCRIPTION REFILL OR MEDICATION ...\n",
       "1639    REQUEST FOR PRESCRIPTION REFILL OR MEDICATION ...\n",
       "1640    REQUEST FOR PRESCRIPTION REFILL OR MEDICATION ...\n",
       "1641    REQUEST FOR PRESCRIPTION REFILL OR MEDICATION ...\n",
       "1642    REQUEST FOR PRESCRIPTION REFILL OR MEDICATION,...\n",
       "1643    REQUEST FOR PRESCRIPTION REFILL OR MEDICATION,...\n",
       "1644    REQUEST FOR PRESCRIPTION REFILL OR MEDICATION,...\n",
       "1645    REQUEST FOR PRESCRIPTION REFILL OR MEDICATION,...\n",
       "1646    REQUEST FOR PRESCRIPTION REFILL OR MEDICATION,...\n",
       "1647                                                  NaN\n",
       "Name: original_code, Length: 1648, dtype: object"
      ]
     },
     "execution_count": 1,
     "metadata": {},
     "output_type": "execute_result"
    }
   ],
   "source": [
    "import numpy as np\n",
    "import pandas as pd\n",
    "from pandas import DataFrame,Series\n",
    "from fuzzywuzzy import fuzz\n",
    "from fuzzywuzzy import process\n",
    "\n",
    "df = pd.DataFrame(pd.read_csv('c:\\data\\Saif\\Copy of DCD_condensed.csv'))\n",
    "df.shape\n",
    "df.head(10)\n",
    "df['original']=df['original'].str.lower()\n",
    "df['cleaned']=df['cleaned'].str.lower()\n",
    "df['original_code'][0]\n",
    "df.original_code\n",
    "\n"
   ]
  },
  {
   "cell_type": "code",
   "execution_count": 2,
   "metadata": {},
   "outputs": [
    {
     "name": "stderr",
     "output_type": "stream",
     "text": [
      "C:\\Users\\manzh\\anaconda3\\lib\\site-packages\\ipykernel_launcher.py:11: SettingWithCopyWarning: \n",
      "A value is trying to be set on a copy of a slice from a DataFrame\n",
      "\n",
      "See the caveats in the documentation: http://pandas.pydata.org/pandas-docs/stable/indexing.html#indexing-view-versus-copy\n",
      "  # This is added back by InteractiveShellApp.init_path()\n",
      "C:\\Users\\manzh\\anaconda3\\lib\\site-packages\\pandas\\core\\indexing.py:189: SettingWithCopyWarning: \n",
      "A value is trying to be set on a copy of a slice from a DataFrame\n",
      "\n",
      "See the caveats in the documentation: http://pandas.pydata.org/pandas-docs/stable/indexing.html#indexing-view-versus-copy\n",
      "  self._setitem_with_indexer(indexer, value)\n"
     ]
    },
    {
     "data": {
      "text/plain": [
       "85"
      ]
     },
     "execution_count": 2,
     "metadata": {},
     "output_type": "execute_result"
    }
   ],
   "source": [
    "\n",
    "count_nan=0\n",
    "\n",
    "for i in range(len(df.original)-1):\n",
    "    comm=process.extract(df.original[i], df.cleaned[:-1], limit=400)\n",
    "        \n",
    "    for j in range(len(comm)):\n",
    "        if comm[j][2]==i:\n",
    "            df['result'][i]=df['cleaned'][i]\n",
    "    if pd.isnull(df['result'][i]) is True:\n",
    "        df['result'][i]=comm[0][0]\n",
    "        count_nan+=1\n",
    "\n",
    "\n",
    "\n",
    "#df.to_csv('c:\\data\\Saif\\history\\clean_vcc.csv', index=False)\n",
    "\n",
    "count_nan"
   ]
  }
 ],
 "metadata": {
  "kernelspec": {
   "display_name": "Python 3",
   "language": "python",
   "name": "python3"
  },
  "language_info": {
   "codemirror_mode": {
    "name": "ipython",
    "version": 3
   },
   "file_extension": ".py",
   "mimetype": "text/x-python",
   "name": "python",
   "nbconvert_exporter": "python",
   "pygments_lexer": "ipython3",
   "version": "3.6.7"
  }
 },
 "nbformat": 4,
 "nbformat_minor": 2
}
