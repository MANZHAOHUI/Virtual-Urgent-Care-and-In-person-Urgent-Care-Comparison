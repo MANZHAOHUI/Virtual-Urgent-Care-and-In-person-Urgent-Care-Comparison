{
 "cells": [
  {
   "cell_type": "code",
   "execution_count": 7,
   "metadata": {},
   "outputs": [
    {
     "data": {
      "text/plain": [
       "count    622.000000\n",
       "mean     142.565370\n",
       "std        8.194493\n",
       "min      132.268162\n",
       "25%      134.757303\n",
       "50%      141.429652\n",
       "75%      153.614262\n",
       "max      155.585232\n",
       "Name: TOTAL_COST, dtype: float64"
      ]
     },
     "execution_count": 7,
     "metadata": {},
     "output_type": "execute_result"
    }
   ],
   "source": [
    "import numpy as np\n",
    "import scipy as sp\n",
    "import scipy.stats\n",
    "import pandas as pd\n",
    "from pandas import DataFrame,Series\n",
    "\n",
    "def mean_confidence_interval(data, confidence=0.95):\n",
    "    a = 1.0*np.array(data)\n",
    "    n = len(a)\n",
    "    m, se = np.mean(a), scipy.stats.sem(a)\n",
    "    h = se * sp.stats.t._ppf((1+confidence)/2., n-1)\n",
    "    return m, m-h, m+h,h\n",
    "\n",
    "def cal_mean_std(sum_list_in):\n",
    "    # type: (list) -> tuple\n",
    "    N = sum_list_in.__len__()\n",
    "    narray = np.array(sum_list_in)\n",
    "    sum = narray.sum()\n",
    "    mean = sum / N\n",
    " \n",
    "    narray_dev = narray - mean\n",
    "    narray_dev = narray_dev * narray_dev\n",
    "    sum_dev = narray_dev.sum()\n",
    "    DEV = float(sum_dev) / float(N)\n",
    "    STDEV = np.math.sqrt(DEV)\n",
    "    \n",
    "    return mean, DEV, STDEV\n",
    "\n",
    "df = pd.DataFrame(pd.read_csv('c:\\data\\Saif/VUC_SIMU_NOOUTLIER_0519.csv'))\n",
    "\n",
    "\n",
    "df['TOTAL_COST'].describe()"
   ]
  },
  {
   "cell_type": "code",
   "execution_count": 8,
   "metadata": {},
   "outputs": [
    {
     "data": {
      "text/plain": [
       "23.31707"
      ]
     },
     "execution_count": 8,
     "metadata": {},
     "output_type": "execute_result"
    }
   ],
   "source": [
    "ci=df['TOTAL_COST']\n",
    "max(ci)-min(ci)"
   ]
  },
  {
   "cell_type": "code",
   "execution_count": 9,
   "metadata": {},
   "outputs": [
    {
     "data": {
      "text/plain": [
       "0.64524140160819232"
      ]
     },
     "execution_count": 9,
     "metadata": {},
     "output_type": "execute_result"
    }
   ],
   "source": [
    "h=mean_confidence_interval(ci,confidence=0.95)\n",
    "h[3]"
   ]
  },
  {
   "cell_type": "code",
   "execution_count": 10,
   "metadata": {},
   "outputs": [],
   "source": [
    "#cal_mean_std(ci)"
   ]
  },
  {
   "cell_type": "code",
   "execution_count": 24,
   "metadata": {},
   "outputs": [
    {
     "data": {
      "text/plain": [
       "array([ 50.04963125,  50.38332594,  50.8783775 ])"
      ]
     },
     "execution_count": 24,
     "metadata": {},
     "output_type": "execute_result"
    }
   ],
   "source": [
    "# np.percentile(ci, [25, 50, 75])"
   ]
  }
 ],
 "metadata": {
  "kernelspec": {
   "display_name": "Python 3",
   "language": "python",
   "name": "python3"
  },
  "language_info": {
   "codemirror_mode": {
    "name": "ipython",
    "version": 3
   },
   "file_extension": ".py",
   "mimetype": "text/x-python",
   "name": "python",
   "nbconvert_exporter": "python",
   "pygments_lexer": "ipython3",
   "version": "3.6.7"
  }
 },
 "nbformat": 4,
 "nbformat_minor": 2
}
