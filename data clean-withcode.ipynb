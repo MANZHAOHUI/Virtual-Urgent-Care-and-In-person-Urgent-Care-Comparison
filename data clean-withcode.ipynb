{
 "cells": [
  {
   "cell_type": "code",
   "execution_count": 7,
   "metadata": {},
   "outputs": [
    {
     "data": {
      "text/plain": [
       "J01.90                    233\n",
       "N39.0                     105\n",
       "J06.9                      73\n",
       "N76.0                      59\n",
       "J20.9                      54\n",
       "N30.90                     50\n",
       "J02.0                      40\n",
       "J02.9                      37\n",
       "J11.1                      33\n",
       "H10.89                     28\n",
       "H66.90                     26\n",
       "R30.0                      26\n",
       "L25.5                      22\n",
       "T14.8                      20\n",
       "R30.9                      20\n",
       "R05                        20\n",
       "R07.0                      19\n",
       "R21                        18\n",
       "L03.90                     17\n",
       "H60.339                    17\n",
       "L25.9                      16\n",
       "J00                        16\n",
       "K04.7                      15\n",
       "K52.9                      14\n",
       "J30.1                      14\n",
       "H92.09                     13\n",
       "L50.9                      11\n",
       "J20.5                      11\n",
       "H10.029                    10\n",
       "H10.30                     10\n",
       "                         ... \n",
       "S69.90XA                    1\n",
       "K05.21                      1\n",
       "B08.1                       1\n",
       "Z30.41                      1\n",
       "N39.0, N89.8, M54.5         1\n",
       "L29.9                       1\n",
       "G06.2                       1\n",
       "T15.90XA                    1\n",
       "H65.01                      1\n",
       "J02.9, H92.09, H93.299      1\n",
       "K59.00                      1\n",
       "Z76.0, J45.909              1\n",
       "R07.0, J06.9                1\n",
       "J06.9, J45.21               1\n",
       "S93.409A                    1\n",
       "R41.0                       1\n",
       "J02.9, J06.9                1\n",
       "B34.9 , R05                 1\n",
       "J06.9, N89.8                1\n",
       "Z20.828                     1\n",
       "L29.3                       1\n",
       "J02.9, H92.09               1\n",
       "J02.9, J03.90               1\n",
       "Z76.0,I10                   1\n",
       "W55.01XA, L03.90            1\n",
       "M65.9                       1\n",
       "J01.90, J20.9, J06.9        1\n",
       "R51, R05, J01.90            1\n",
       "S92.309A                    1\n",
       "R10.9,R11.0                 1\n",
       "Name: code, Length: 386, dtype: int64"
      ]
     },
     "execution_count": 7,
     "metadata": {},
     "output_type": "execute_result"
    }
   ],
   "source": [
    "import numpy as np\n",
    "import pandas as pd\n",
    "from pandas import DataFrame,Series\n",
    "from fuzzywuzzy import fuzz\n",
    "from fuzzywuzzy import process\n",
    "\n",
    "df = pd.DataFrame(pd.read_csv('c:\\data\\Saif\\Copy of DCD_condensed.csv'))\n",
    "df.shape\n",
    "df.head(10)\n",
    "df['original_code']=df['original_code'].str.lower()\n",
    "df['cleaned_code']=df['cleaned_code'].str.lower()\n",
    "df['original_code'][0]\n",
    "df.original_code\n",
    "df.index\n",
    "#df.columns\n",
    "df.dtypes\n",
    "df.code.value_counts()"
   ]
  },
  {
   "cell_type": "code",
   "execution_count": 2,
   "metadata": {},
   "outputs": [
    {
     "name": "stderr",
     "output_type": "stream",
     "text": [
      "C:\\Users\\manzh\\anaconda3\\lib\\site-packages\\ipykernel_launcher.py:9: SettingWithCopyWarning: \n",
      "A value is trying to be set on a copy of a slice from a DataFrame\n",
      "\n",
      "See the caveats in the documentation: http://pandas.pydata.org/pandas-docs/stable/indexing.html#indexing-view-versus-copy\n",
      "  if __name__ == '__main__':\n",
      "C:\\Users\\manzh\\anaconda3\\lib\\site-packages\\pandas\\core\\indexing.py:189: SettingWithCopyWarning: \n",
      "A value is trying to be set on a copy of a slice from a DataFrame\n",
      "\n",
      "See the caveats in the documentation: http://pandas.pydata.org/pandas-docs/stable/indexing.html#indexing-view-versus-copy\n",
      "  self._setitem_with_indexer(indexer, value)\n"
     ]
    },
    {
     "data": {
      "text/plain": [
       "24"
      ]
     },
     "execution_count": 2,
     "metadata": {},
     "output_type": "execute_result"
    }
   ],
   "source": [
    "\n",
    "count_nan=0\n",
    "\n",
    "for i in range(len(df.original)-1):\n",
    "    comm=process.extract(df.original_code[i], df.cleaned_code[:-1], limit=400)\n",
    "        \n",
    "    for j in range(len(comm)):\n",
    "        if comm[j][2]==i:\n",
    "            df['result'][i]=df['cleaned_code'][i]\n",
    "    if pd.isnull(df['result'][i]) is True:\n",
    "        df['result'][i]=comm[0][0]\n",
    "        count_nan+=1\n",
    "\n",
    "count_nan\n",
    "\n",
    "#df.to_csv('c:\\data\\Saif\\clean_vcc.csv', index=False)"
   ]
  }
 ],
 "metadata": {
  "kernelspec": {
   "display_name": "Python 3",
   "language": "python",
   "name": "python3"
  },
  "language_info": {
   "codemirror_mode": {
    "name": "ipython",
    "version": 3
   },
   "file_extension": ".py",
   "mimetype": "text/x-python",
   "name": "python",
   "nbconvert_exporter": "python",
   "pygments_lexer": "ipython3",
   "version": "3.6.7"
  }
 },
 "nbformat": 4,
 "nbformat_minor": 2
}
